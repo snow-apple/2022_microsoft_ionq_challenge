{
 "cells": [
  {
   "cell_type": "code",
   "execution_count": 1,
   "metadata": {},
   "outputs": [],
   "source": [
    "%load_ext autoreload\n",
    "%autoreload 2"
   ]
  },
  {
   "cell_type": "code",
   "execution_count": 2,
   "metadata": {},
   "outputs": [],
   "source": [
    "from quantum_jeopardy import QuantumJeopardy"
   ]
  },
  {
   "cell_type": "code",
   "execution_count": 3,
   "metadata": {},
   "outputs": [],
   "source": [
    "game = QuantumJeopardy()"
   ]
  },
  {
   "cell_type": "code",
   "execution_count": 6,
   "metadata": {},
   "outputs": [
    {
     "name": "stdout",
     "output_type": "stream",
     "text": [
      "['ionq.qpu', 'ionq.simulator']\n"
     ]
    }
   ],
   "source": [
    "resource_id = \"\"\n",
    "game.setup_backend(resource_id)"
   ]
  },
  {
   "cell_type": "code",
   "execution_count": 8,
   "metadata": {
    "collapsed": false,
    "jupyter": {
     "outputs_hidden": false,
     "source_hidden": false
    },
    "nteract": {
     "transient": {
      "deleting": false
     }
    }
   },
   "outputs": [
    {
     "name": "stdout",
     "output_type": "stream",
     "text": [
      "How many rounds? \n"
     ]
    },
    {
     "name": "stdin",
     "output_type": "stream",
     "text": [
      " 1\n"
     ]
    },
    {
     "name": "stdout",
     "output_type": "stream",
     "text": [
      "\n",
      "The topics are: \n",
      "Quantum\n",
      "Astronomy\n",
      "Math\n",
      "Geography\n"
     ]
    }
   ],
   "source": [
    "import random;\n",
    "\n",
    "points = 0\n",
    "\n",
    "#Get number of rounds\n",
    "print(\"How many rounds? \")\n",
    "rounds = int(input())\n",
    "print(\"\") #Spacing\n",
    "\n",
    "#List of quiz topics\n",
    "topicsList = [\"Quantum\", \"Astronomy\", \"Math\", \"Geography\"]\n",
    "\n",
    "#Print the topics\n",
    "print(\"The topics are: \")\n",
    "for topic in topicsList:\n",
    "    print(topic)\n",
    "\n",
    "#Lists that have the questions and answers for each topic\n",
    "quantumQs = [\"Bell states are a example of_________\", \"The CNOT gate is a ____ Qubit Gate\"]\n",
    "quantumAs = [\"entangled state\", \"2\"]\n",
    "\n",
    "astronomyQs = [\"A supermassive black hole that exists at the centre of the Milky Way Galaxy is _________\", \"The closest galaxy to the Milky Way is ___________\"]\n",
    "astronomyAs = [\"sagittarius a\", \"andromeda\"]\n",
    "\n",
    "mathQs = [\"Hilbert space is ____ Dimensional\", \"Complex numbers are __________ Dimensional\"]\n",
    "mathAs = [\"infinite\", \"2\"]\n",
    "\n",
    "geographyQs = [\"South Pole is situated in which continent?\", \"The great Barrier reef is situated in ________\"]\n",
    "geographyAs = [\"antartica\", \"australia\"]"
   ]
  },
  {
   "cell_type": "code",
   "execution_count": 10,
   "metadata": {
    "collapsed": false,
    "jupyter": {
     "outputs_hidden": false,
     "source_hidden": false
    },
    "nteract": {
     "transient": {
      "deleting": false
     }
    }
   },
   "outputs": [
    {
     "name": "stdout",
     "output_type": "stream",
     "text": [
      "Round 1\n",
      "Here are the topics: ['Quantum', 'Astronomy', 'Math', 'Geography']\n",
      "     ┌───┐     ┌────────────┐┌────────────┐\n",
      "q_0: ┤ H ├──■──┤ Rx(6.1476) ├┤ Rz(2.9725) ├\n",
      "     └───┘┌─┴─┐├────────────┤├────────────┤\n",
      "q_1: ─────┤ X ├┤ Rx(5.7548) ├┤ Rz(4.3353) ├\n",
      "          └───┘└────────────┘└────────────┘\n",
      "c: 2/══════════════════════════════════════\n",
      "                                           \n"
     ]
    },
    {
     "name": "stdin",
     "output_type": "stream",
     "text": [
      "What gate would you like to use? (Type None if no gate):  t\n",
      "Which qubit would you like to apply the gate to?:  1\n",
      "What gate would you like to use? (Type None if no gate):  x\n",
      "Which qubit would you like to apply the gate to?:  0\n",
      "What gate would you like to use? (Type None if no gate):  y\n",
      "Which qubit would you like to apply the gate to?:  0\n"
     ]
    },
    {
     "name": "stdout",
     "output_type": "stream",
     "text": [
      "     ┌───┐     ┌────────────┐┌────────────┐┌───┐┌───┐┌─┐\n",
      "q_0: ┤ H ├──■──┤ Rx(6.1476) ├┤ Rz(2.9725) ├┤ X ├┤ Y ├┤M├\n",
      "     └───┘┌─┴─┐├────────────┤├────────────┤├───┤└┬─┬┘└╥┘\n",
      "q_1: ─────┤ X ├┤ Rx(5.7548) ├┤ Rz(4.3353) ├┤ T ├─┤M├──╫─\n",
      "          └───┘└────────────┘└────────────┘└───┘ └╥┘  ║ \n",
      "c: 2/═════════════════════════════════════════════╩═══╩═\n",
      "                                                  1   0 \n",
      "Job id 3de10f58-81a0-11ec-923e-367dda17a95d\n",
      "Job Status: job has successfully run\n",
      "{'00': 44, '01': 5, '10': 5, '11': 44}\n",
      "The topic is Quantum!\n",
      "Enter your answers in lowercase letters only. For numbers, use integers only.\n",
      "\n",
      "The CNOT gate is a ____ Qubit Gate\n"
     ]
    },
    {
     "name": "stdin",
     "output_type": "stream",
     "text": [
      " 2\n"
     ]
    },
    {
     "name": "stdout",
     "output_type": "stream",
     "text": [
      "Correct!\n",
      "Points: 1\n",
      "\n"
     ]
    }
   ],
   "source": [
    "#Start the game\n",
    "for i in range(rounds):\n",
    "    print(\"Round \" + str(i + 1))\n",
    "\n",
    "    print(\"Here are the topics: \" + str(topicsList))\n",
    "    topic_number = game.play_round()\n",
    "\n",
    "    #quantum pick topic\n",
    "    topic = topicsList[topic_number]\n",
    "    print(\"The topic is \" + topic + \"!\")\n",
    "    print(\"Enter your answers in lowercase letters only. For numbers, use integers only.\")\n",
    "    print(\"\") #Spacing\n",
    "\n",
    "    if(topic == \"Quantum\"):\n",
    "        #Randomly pick question\n",
    "        index = random.randint(0, len(quantumQs) - 1)\n",
    "        question = quantumQs[index]\n",
    "        realAns = quantumAs[index]\n",
    "\n",
    "        #Ask question\n",
    "        print(question)\n",
    "        playerAns = input()\n",
    "\n",
    "        #Check answer\n",
    "        if(playerAns == realAns):\n",
    "            print(\"Correct!\")\n",
    "            points += 1\n",
    "            print(\"Points: \" + str(points))\n",
    "        else:\n",
    "            print(\"Incorrect! The answer is \" + realAns + \".\")\n",
    "            points -= 1\n",
    "            print(\"Points: \" + str(points))\n",
    "\n",
    "    elif(topic == \"Astronomy\"):\n",
    "        #Randomly pick question\n",
    "        index = random.randint(0, len(astronomyQs) - 1)\n",
    "        question = astronomyQs[index]\n",
    "        realAns = astronomyAs[index]\n",
    "\n",
    "        #Ask question\n",
    "        print(question)\n",
    "        playerAns = input()\n",
    "\n",
    "        #Check answer\n",
    "        if(playerAns == realAns):\n",
    "            print(\"Correct!\")\n",
    "            points += 1\n",
    "            print(\"Points: \" + str(points))\n",
    "        else:\n",
    "            print(\"Incorrect! The answer is \" + realAns + \".\")\n",
    "            points -= 1\n",
    "            print(\"Points: \" + str(points))\n",
    "\n",
    "    elif(topic == \"Math\"):\n",
    "        #Randomly pick question\n",
    "        index = random.randint(0, len(mathQs) - 1)\n",
    "        question = mathQs[index]\n",
    "        realAns = mathAs[index]\n",
    "\n",
    "        #Ask question\n",
    "        print(question)\n",
    "        playerAns = input()\n",
    "\n",
    "        #Check answer\n",
    "        if(playerAns == realAns):\n",
    "            print(\"Correct!\")\n",
    "            points += 1\n",
    "            print(\"Points: \" + str(points))\n",
    "        else:\n",
    "            print(\"Incorrect! The answer is \" + realAns + \".\")\n",
    "            points -= 1\n",
    "            print(\"Points: \" + str(points))\n",
    "\n",
    "    else:\n",
    "        #Randomly pick question\n",
    "        index = random.randint(0, len(geographyQs) - 1)\n",
    "        question = geographyQs[index]\n",
    "        realAns = geographyAs[index]\n",
    "\n",
    "        #Ask question\n",
    "        print(question)\n",
    "        playerAns = input()\n",
    "\n",
    "        #Check answer\n",
    "        if(playerAns == realAns):\n",
    "            print(\"Correct!\")\n",
    "            points += 1\n",
    "            print(\"Points: \" + str(points))\n",
    "        else:\n",
    "            print(\"Incorrect! The answer is \" + realAns + \".\")\n",
    "            points -= 1\n",
    "            print(\"Points: \" + str(points))\n",
    "\n",
    "    print(\"\") #Spacing for next round\n",
    "\n"
   ]
  },
  {
   "cell_type": "code",
   "execution_count": null,
   "metadata": {},
   "outputs": [],
   "source": []
  }
 ],
 "metadata": {
  "kernel_info": {
   "name": "python3"
  },
  "kernelspec": {
   "display_name": "Python 3 (ipykernel)",
   "language": "python",
   "name": "python3"
  },
  "language_info": {
   "codemirror_mode": {
    "name": "ipython",
    "version": 3
   },
   "file_extension": ".py",
   "mimetype": "text/x-python",
   "name": "python",
   "nbconvert_exporter": "python",
   "pygments_lexer": "ipython3",
   "version": "3.7.12"
  },
  "nteract": {
   "version": "nteract-front-end@1.0.0"
  }
 },
 "nbformat": 4,
 "nbformat_minor": 4
}
