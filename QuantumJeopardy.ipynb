{
 "cells": [
  {
   "cell_type": "code",
   "execution_count": 1,
   "metadata": {},
   "outputs": [],
   "source": [
    "%load_ext autoreload\n",
    "%autoreload 2"
   ]
  },
  {
   "cell_type": "code",
   "execution_count": 2,
   "metadata": {},
   "outputs": [],
   "source": [
    "from quantum_jeopardy import QuantumJeopardy"
   ]
  },
  {
   "cell_type": "code",
   "execution_count": 3,
   "metadata": {},
   "outputs": [],
   "source": [
    "resource_id = \"\""
   ]
  },
  {
   "cell_type": "markdown",
   "metadata": {},
   "source": [
    "# Running Quantum Jeopardy on a Simulator"
   ]
  },
  {
   "cell_type": "code",
   "execution_count": 5,
   "metadata": {},
   "outputs": [
    {
     "name": "stdout",
     "output_type": "stream",
     "text": [
      "How many rounds? \n"
     ]
    },
    {
     "name": "stdin",
     "output_type": "stream",
     "text": [
      " 1\n"
     ]
    },
    {
     "name": "stdout",
     "output_type": "stream",
     "text": [
      "\n",
      "The topics are: \n",
      "Quantum\n",
      "Astronomy\n",
      "Math\n",
      "Geography\n",
      "['ionq.qpu', 'ionq.simulator']\n"
     ]
    }
   ],
   "source": [
    "game = QuantumJeopardy()\n",
    "game.setup_backend(resource_id)"
   ]
  },
  {
   "cell_type": "code",
   "execution_count": 6,
   "metadata": {},
   "outputs": [
    {
     "name": "stdout",
     "output_type": "stream",
     "text": [
      "Round 1\n",
      "====================\n",
      "Here are the topics: ['Quantum', 'Astronomy', 'Math', 'Geography']\n",
      "These topics correspond to the following quantum states: ['|00>', '|01>', '|10>', '|11>']\n",
      "     ┌───┐     \n",
      "q_0: ┤ H ├──■──\n",
      "     └───┘┌─┴─┐\n",
      "q_1: ─────┤ X ├\n",
      "          └───┘\n",
      "c: 2/══════════\n",
      "               \n",
      "A random initial quantum state has been prepared. You can add up to 3 gates to maximize the probability of measuring the quantum state corresponding to the topic of your choice. You are allowed to use the x, y, z, cx, h, and t gates.\n",
      "\n"
     ]
    },
    {
     "name": "stdin",
     "output_type": "stream",
     "text": [
      "What gate would you like to use? (Type None if no gate):  cx\n",
      "Which qubit is the control?:  0\n",
      "Which qubit is the target?:  1\n",
      "What gate would you like to use? (Type None if no gate):  h\n",
      "Which qubit would you like to apply the gate to?:  0\n",
      "What gate would you like to use? (Type None if no gate):  None\n"
     ]
    },
    {
     "name": "stdout",
     "output_type": "stream",
     "text": [
      "skipped code\n",
      "     ┌───┐          ┌───┐┌─┐\n",
      "q_0: ┤ H ├──■────■──┤ H ├┤M├\n",
      "     └───┘┌─┴─┐┌─┴─┐└┬─┬┘└╥┘\n",
      "q_1: ─────┤ X ├┤ X ├─┤M├──╫─\n",
      "          └───┘└───┘ └╥┘  ║ \n",
      "c: 2/═════════════════╩═══╩═\n",
      "                      1   0 \n",
      "Job id 7deadd0a-81e0-11ec-a311-367dda17a95d\n",
      "Job Status: job has successfully run\n",
      "{'00': 100, '01': 0, '10': 0, '11': 0}\n",
      "The topic is Quantum!\n",
      "Enter your answers in lowercase letters only. For numbers, use integers only.\n",
      "\n",
      "Bell states are a example of_________\n"
     ]
    },
    {
     "name": "stdin",
     "output_type": "stream",
     "text": [
      " entangled state\n"
     ]
    },
    {
     "name": "stdout",
     "output_type": "stream",
     "text": [
      "Correct!\n",
      "Points: 1\n",
      "\n",
      "====================\n",
      "GAME OVER! Your final score is: 1\n"
     ]
    }
   ],
   "source": [
    "game.run(level = 0)"
   ]
  },
  {
   "cell_type": "code",
   "execution_count": 7,
   "metadata": {},
   "outputs": [
    {
     "name": "stdout",
     "output_type": "stream",
     "text": [
      "How many rounds? \n"
     ]
    },
    {
     "name": "stdin",
     "output_type": "stream",
     "text": [
      " 1\n"
     ]
    },
    {
     "name": "stdout",
     "output_type": "stream",
     "text": [
      "\n",
      "The topics are: \n",
      "Quantum\n",
      "Astronomy\n",
      "Math\n",
      "Geography\n",
      "Round 1\n",
      "====================\n",
      "Here are the topics: ['Quantum', 'Astronomy', 'Math', 'Geography']\n",
      "These topics correspond to the following quantum states: ['|00>', '|01>', '|10>', '|11>']\n",
      "     ┌───┐     ┌───┐┌───┐\n",
      "q_0: ┤ H ├──■──┤ X ├┤ Z ├\n",
      "     └───┘┌─┴─┐├───┤├───┤\n",
      "q_1: ─────┤ X ├┤ X ├┤ Z ├\n",
      "          └───┘└───┘└───┘\n",
      "c: 2/════════════════════\n",
      "                         \n",
      "A random initial quantum state has been prepared. You can add up to 3 gates to maximize the probability of measuring the quantum state corresponding to the topic of your choice. You are allowed to use the x, y, z, cx, h, and t gates.\n",
      "\n"
     ]
    },
    {
     "name": "stdin",
     "output_type": "stream",
     "text": [
      "What gate would you like to use? (Type None if no gate):  cx\n",
      "Which qubit is the control?:  0\n",
      "Which qubit is the target?:  1\n",
      "What gate would you like to use? (Type None if no gate):  h\n",
      "Which qubit would you like to apply the gate to?:  0\n",
      "What gate would you like to use? (Type None if no gate):  None\n"
     ]
    },
    {
     "name": "stdout",
     "output_type": "stream",
     "text": [
      "skipped code\n",
      "     ┌───┐     ┌───┐┌───┐     ┌───┐┌─┐\n",
      "q_0: ┤ H ├──■──┤ X ├┤ Z ├──■──┤ H ├┤M├\n",
      "     └───┘┌─┴─┐├───┤├───┤┌─┴─┐└┬─┬┘└╥┘\n",
      "q_1: ─────┤ X ├┤ X ├┤ Z ├┤ X ├─┤M├──╫─\n",
      "          └───┘└───┘└───┘└───┘ └╥┘  ║ \n",
      "c: 2/═══════════════════════════╩═══╩═\n",
      "                                1   0 \n",
      "Job id c7d699b8-81e0-11ec-a311-367dda17a95d\n",
      "Job Status: job has successfully run\n",
      "{'00': 100, '01': 0, '10': 0, '11': 0}\n",
      "The topic is Quantum!\n",
      "Enter your answers in lowercase letters only. For numbers, use integers only.\n",
      "\n",
      "The CNOT gate is a ____ Qubit Gate\n"
     ]
    },
    {
     "name": "stdin",
     "output_type": "stream",
     "text": [
      " 2\n"
     ]
    },
    {
     "name": "stdout",
     "output_type": "stream",
     "text": [
      "Correct!\n",
      "Points: 1\n",
      "\n",
      "====================\n",
      "GAME OVER! Your final score is: 1\n"
     ]
    }
   ],
   "source": [
    "game.reset()\n",
    "game.run(level = 1)"
   ]
  },
  {
   "cell_type": "code",
   "execution_count": 8,
   "metadata": {},
   "outputs": [
    {
     "name": "stdout",
     "output_type": "stream",
     "text": [
      "How many rounds? \n"
     ]
    },
    {
     "name": "stdin",
     "output_type": "stream",
     "text": [
      " 1\n"
     ]
    },
    {
     "name": "stdout",
     "output_type": "stream",
     "text": [
      "\n",
      "The topics are: \n",
      "Quantum\n",
      "Astronomy\n",
      "Math\n",
      "Geography\n",
      "Round 1\n",
      "====================\n",
      "Here are the topics: ['Quantum', 'Astronomy', 'Math', 'Geography']\n",
      "These topics correspond to the following quantum states: ['|00>', '|01>', '|10>', '|11>']\n",
      "     ┌───┐     ┌────────────┐ ┌────────────┐ \n",
      "q_0: ┤ H ├──■──┤ Rx(2.2268) ├─┤ Rz(4.7887) ├─\n",
      "     └───┘┌─┴─┐├────────────┤┌┴────────────┴┐\n",
      "q_1: ─────┤ X ├┤ Rx(5.7741) ├┤ Rz(0.018469) ├\n",
      "          └───┘└────────────┘└──────────────┘\n",
      "c: 2/════════════════════════════════════════\n",
      "                                             \n",
      "A random initial quantum state has been prepared. You can add up to 3 gates to maximize the probability of measuring the quantum state corresponding to the topic of your choice. You are allowed to use the x, y, z, cx, h, and t gates.\n",
      "\n"
     ]
    },
    {
     "name": "stdin",
     "output_type": "stream",
     "text": [
      "What gate would you like to use? (Type None if no gate):  t\n",
      "Which qubit would you like to apply the gate to?:  0\n",
      "What gate would you like to use? (Type None if no gate):  h\n",
      "Which qubit would you like to apply the gate to?:  1\n",
      "What gate would you like to use? (Type None if no gate):  cx\n",
      "Which qubit is the control?:  0\n",
      "Which qubit is the target?:  1\n"
     ]
    },
    {
     "name": "stdout",
     "output_type": "stream",
     "text": [
      "     ┌───┐     ┌────────────┐ ┌────────────┐ ┌───┐     ┌─┐   \n",
      "q_0: ┤ H ├──■──┤ Rx(2.2268) ├─┤ Rz(4.7887) ├─┤ T ├──■──┤M├───\n",
      "     └───┘┌─┴─┐├────────────┤┌┴────────────┴┐├───┤┌─┴─┐└╥┘┌─┐\n",
      "q_1: ─────┤ X ├┤ Rx(5.7741) ├┤ Rz(0.018469) ├┤ H ├┤ X ├─╫─┤M├\n",
      "          └───┘└────────────┘└──────────────┘└───┘└───┘ ║ └╥┘\n",
      "c: 2/═══════════════════════════════════════════════════╩══╩═\n",
      "                                                        0  1 \n",
      "Job id f91ffeb0-81e0-11ec-a311-367dda17a95d\n",
      "Job Status: job has successfully run\n",
      "{'00': 25, '01': 25, '10': 24, '11': 24}\n",
      "The topic is Quantum!\n",
      "Enter your answers in lowercase letters only. For numbers, use integers only.\n",
      "\n",
      "Bell states are a example of_________\n"
     ]
    },
    {
     "name": "stdin",
     "output_type": "stream",
     "text": [
      " entangled state\n"
     ]
    },
    {
     "name": "stdout",
     "output_type": "stream",
     "text": [
      "Correct!\n",
      "Points: 1\n",
      "\n",
      "====================\n",
      "GAME OVER! Your final score is: 1\n"
     ]
    }
   ],
   "source": [
    "game.reset()\n",
    "game.run(level = 2)"
   ]
  },
  {
   "cell_type": "markdown",
   "metadata": {
    "tags": []
   },
   "source": [
    "# Running on real quantum computer"
   ]
  },
  {
   "cell_type": "code",
   "execution_count": 9,
   "metadata": {},
   "outputs": [
    {
     "name": "stdout",
     "output_type": "stream",
     "text": [
      "How many rounds? \n"
     ]
    },
    {
     "name": "stdin",
     "output_type": "stream",
     "text": [
      " 1\n"
     ]
    },
    {
     "name": "stdout",
     "output_type": "stream",
     "text": [
      "\n",
      "The topics are: \n",
      "Quantum\n",
      "Astronomy\n",
      "Math\n",
      "Geography\n",
      "['ionq.qpu', 'ionq.simulator']\n"
     ]
    }
   ],
   "source": [
    "game = QuantumJeopardy()\n",
    "game.setup_backend(resource_id, backend_type = \"ionq.qpu\")"
   ]
  },
  {
   "cell_type": "code",
   "execution_count": 10,
   "metadata": {},
   "outputs": [
    {
     "name": "stdout",
     "output_type": "stream",
     "text": [
      "Round 1\n",
      "====================\n",
      "Here are the topics: ['Quantum', 'Astronomy', 'Math', 'Geography']\n",
      "These topics correspond to the following quantum states: ['|00>', '|01>', '|10>', '|11>']\n",
      "     ┌───┐     ┌───┐┌───┐\n",
      "q_0: ┤ H ├──■──┤ X ├┤ Z ├\n",
      "     └───┘┌─┴─┐├───┤└───┘\n",
      "q_1: ─────┤ X ├┤ X ├─────\n",
      "          └───┘└───┘     \n",
      "c: 2/════════════════════\n",
      "                         \n",
      "A random initial quantum state has been prepared. You can add up to 3 gates to maximize the probability of measuring the quantum state corresponding to the topic of your choice. You are allowed to use the x, y, z, cx, h, and t gates.\n",
      "\n"
     ]
    },
    {
     "name": "stdin",
     "output_type": "stream",
     "text": [
      "What gate would you like to use? (Type None if no gate):  cx\n",
      "Which qubit is the control?:  0\n",
      "Which qubit is the target?:  1\n",
      "What gate would you like to use? (Type None if no gate):  h\n",
      "Which qubit would you like to apply the gate to?:  0\n",
      "What gate would you like to use? (Type None if no gate):  x\n",
      "Which qubit would you like to apply the gate to?:  0\n"
     ]
    },
    {
     "name": "stdout",
     "output_type": "stream",
     "text": [
      "     ┌───┐     ┌───┐┌───┐     ┌───┐┌───┐┌─┐\n",
      "q_0: ┤ H ├──■──┤ X ├┤ Z ├──■──┤ H ├┤ X ├┤M├\n",
      "     └───┘┌─┴─┐├───┤└───┘┌─┴─┐└┬─┬┘└───┘└╥┘\n",
      "q_1: ─────┤ X ├┤ X ├─────┤ X ├─┤M├───────╫─\n",
      "          └───┘└───┘     └───┘ └╥┘       ║ \n",
      "c: 2/═══════════════════════════╩════════╩═\n",
      "                                1        0 \n",
      "Job id 6c89a5e4-81e7-11ec-a311-367dda17a95d\n",
      "Job Status: job has successfully run\n",
      "{'00': 100, '01': 0, '10': 0, '11': 0}\n",
      "The topic is Quantum!\n",
      "Enter your answers in lowercase letters only. For numbers, use integers only.\n",
      "\n",
      "The CNOT gate is a ____ Qubit Gate\n"
     ]
    },
    {
     "name": "stdin",
     "output_type": "stream",
     "text": [
      " 2\n"
     ]
    },
    {
     "name": "stdout",
     "output_type": "stream",
     "text": [
      "Correct!\n",
      "Points: 1\n",
      "\n",
      "====================\n",
      "GAME OVER! Your final score is: 1\n"
     ]
    }
   ],
   "source": [
    "game.run(level = 1)"
   ]
  },
  {
   "cell_type": "code",
   "execution_count": null,
   "metadata": {},
   "outputs": [],
   "source": []
  }
 ],
 "metadata": {
  "kernel_info": {
   "name": "python3"
  },
  "kernelspec": {
   "display_name": "Python 3 (ipykernel)",
   "language": "python",
   "name": "python3"
  },
  "language_info": {
   "codemirror_mode": {
    "name": "ipython",
    "version": 3
   },
   "file_extension": ".py",
   "mimetype": "text/x-python",
   "name": "python",
   "nbconvert_exporter": "python",
   "pygments_lexer": "ipython3",
   "version": "3.7.12"
  },
  "nteract": {
   "version": "nteract-front-end@1.0.0"
  }
 },
 "nbformat": 4,
 "nbformat_minor": 4
}
