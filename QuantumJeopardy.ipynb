{
  "cells": [
    {
      "cell_type": "code",
      "source": [
        "from qiskit import QuantumCircuit\n",
        "from qiskit.visualization import plot_histogram\n",
        "from qiskit.tools.monitor import job_monitor\n",
        "from azure.quantum.qiskit import AzureQuantumProvider\n",
        "\n",
        "from azure.quantum import Workspace\n",
        "workspace = Workspace (\n",
        "    subscription_id = \"",\n",
        "    resource_group = \"aq-hackathons\",\n",
        "    name = \"aq-hackathon-01\",\n",
        "    location = \""\n",
        ")\n"
      ],
      "outputs": [],
      "execution_count": 25,
      "metadata": {
        "jupyter": {
          "source_hidden": false,
          "outputs_hidden": false
        },
        "nteract": {
          "transient": {
            "deleting": false
          }
        }
      }
    },
    {
      "cell_type": "code",
      "source": [
        "import random;\r\n",
        "\r\n",
        "points = 0\r\n",
        "\r\n",
        "#Get number of rounds\r\n",
        "print(\"How many rounds? \")\r\n",
        "rounds = int(input())\r\n",
        "print(\"\") #Spacing\r\n",
        "\r\n",
        "#List of quiz topics\r\n",
        "topicsList = [\"Quantum\", \"Astronomy\", \"Math\", \"Geography\"]\r\n",
        "\r\n",
        "#Print the topics\r\n",
        "print(\"The topics are: \")\r\n",
        "for topic in topicsList:\r\n",
        "    print(topic)\r\n",
        "\r\n",
        "#Lists that have the questions and answers for each topic\r\n",
        "quantumQs = [\"Bell states are a example of_________\", \"The CNOT gate is a ____ Qubit Gate\"]\r\n",
        "quantumAs = [\"entangled state\", \"2\"]\r\n",
        "\r\n",
        "astronomyQs = [\"A supermassive black hole that exists at the centre of the Milky Way Galaxy is _________\", \"The closest galaxy to the Milky Way is ___________\"]\r\n",
        "astronomyAs = [\"sagittarius a\", \"andromeda\"]\r\n",
        "\r\n",
        "mathQs = [\"Hilbert space is ____ Dimensional\", \"Complex numbers are __________ Dimensional\"]\r\n",
        "mathAs = [\"infinite\", \"2\"]\r\n",
        "\r\n",
        "geographyQs = [\"South Pole is situated in which continent?\", \"The great Barrier reef is situated in ________\"]\r\n",
        "geographyAs = [\"antartica\", \"australia\"]"
      ],
      "outputs": [
        {
          "output_type": "stream",
          "name": "stdout",
          "text": "How many rounds? \n\nThe topics are: \nQuantum\nAstronomy\nMath\nGeography\n"
        }
      ],
      "execution_count": 26,
      "metadata": {
        "jupyter": {
          "source_hidden": false,
          "outputs_hidden": false
        },
        "nteract": {
          "transient": {
            "deleting": false
          }
        }
      }
    },
    {
      "cell_type": "code",
      "source": [
        "#Start the game\r\n",
        "for i in range(rounds):\r\n",
        "    print(\"Round \" + str(i + 1))\r\n",
        "\r\n",
        "    print(\"Do you want to pick the topic? (Y/N) \")\r\n",
        "    pickTopic = input()\r\n",
        "\r\n",
        "    #If they do not want to pick the topic\r\n",
        "    if(pickTopic == \"N\"):\r\n",
        "        #Randomly pick topic\r\n",
        "        topic = topicsList[random.randint(0, 3)]\r\n",
        "        print(\"The topic is \" + topic + \"!\")\r\n",
        "        print(\"Enter your answers in lowercase letters only. For numbers, use integers only.\")\r\n",
        "        print(\"\") #Spacing\r\n",
        "\r\n",
        "        if(topic == \"Quantum\"):\r\n",
        "            #Randomly pick question\r\n",
        "            index = random.randint(0, len(quantumQs) - 1)\r\n",
        "            question = quantumQs[index]\r\n",
        "            realAns = quantumAs[index]\r\n",
        "\r\n",
        "            #Ask question\r\n",
        "            print(question)\r\n",
        "            playerAns = input()\r\n",
        "\r\n",
        "            #Check answer\r\n",
        "            if(playerAns == realAns):\r\n",
        "                print(\"Correct!\")\r\n",
        "                points += 1\r\n",
        "                print(\"Points: \" + str(points))\r\n",
        "            else:\r\n",
        "                print(\"Incorrect! The answer is \" + realAns + \".\")\r\n",
        "                points -= 1\r\n",
        "                print(\"Points: \" + str(points))\r\n",
        "\r\n",
        "        elif(topic == \"Astronomy\"):\r\n",
        "            #Randomly pick question\r\n",
        "            index = random.randint(0, len(astronomyQs) - 1)\r\n",
        "            question = astronomyQs[index]\r\n",
        "            realAns = astronomyAs[index]\r\n",
        "\r\n",
        "            #Ask question\r\n",
        "            print(question)\r\n",
        "            playerAns = input()\r\n",
        "\r\n",
        "            #Check answer\r\n",
        "            if(playerAns == realAns):\r\n",
        "                print(\"Correct!\")\r\n",
        "                points += 1\r\n",
        "                print(\"Points: \" + str(points))\r\n",
        "            else:\r\n",
        "                print(\"Incorrect! The answer is \" + realAns + \".\")\r\n",
        "                points -= 1\r\n",
        "                print(\"Points: \" + str(points))\r\n",
        "\r\n",
        "        elif(topic == \"Math\"):\r\n",
        "            #Randomly pick question\r\n",
        "            index = random.randint(0, len(mathQs) - 1)\r\n",
        "            question = mathQs[index]\r\n",
        "            realAns = mathAs[index]\r\n",
        "\r\n",
        "            #Ask question\r\n",
        "            print(question)\r\n",
        "            playerAns = input()\r\n",
        "\r\n",
        "            #Check answer\r\n",
        "            if(playerAns == realAns):\r\n",
        "                print(\"Correct!\")\r\n",
        "                points += 1\r\n",
        "                print(\"Points: \" + str(points))\r\n",
        "            else:\r\n",
        "                print(\"Incorrect! The answer is \" + realAns + \".\")\r\n",
        "                points -= 1\r\n",
        "                print(\"Points: \" + str(points))\r\n",
        "\r\n",
        "        else:\r\n",
        "            #Randomly pick question\r\n",
        "            index = random.randint(0, len(geographyQs) - 1)\r\n",
        "            question = geographyQs[index]\r\n",
        "            realAns = geographyAs[index]\r\n",
        "\r\n",
        "            #Ask question\r\n",
        "            print(question)\r\n",
        "            playerAns = input()\r\n",
        "\r\n",
        "            #Check answer\r\n",
        "            if(playerAns == realAns):\r\n",
        "                print(\"Correct!\")\r\n",
        "                points += 1\r\n",
        "                print(\"Points: \" + str(points))\r\n",
        "            else:\r\n",
        "                print(\"Incorrect! The answer is \" + realAns + \".\")\r\n",
        "                points -= 1\r\n",
        "                print(\"Points: \" + str(points))\r\n",
        "    \r\n",
        "    print(\"\") #Spacing for next round\r\n",
        "\r\n"
      ],
      "outputs": [
        {
          "output_type": "stream",
          "name": "stdout",
          "text": "Round 1\nDo you want to pick the topic? (Y/N) \nThe topic is Geography!\nEnter your answers in lowercase letters only. For numbers, use integers only.\n\nSouth Pole is situated in which continent?\nCorrect!\nPoints: 1\n\n"
        }
      ],
      "execution_count": 27,
      "metadata": {
        "jupyter": {
          "source_hidden": false,
          "outputs_hidden": false
        },
        "nteract": {
          "transient": {
            "deleting": false
          }
        }
      }
    }
  ],
  "metadata": {
    "language_info": {
      "name": "python",
      "version": "3.7.12",
      "mimetype": "text/x-python",
      "codemirror_mode": {
        "name": "ipython",
        "version": 3
      },
      "pygments_lexer": "ipython3",
      "nbconvert_exporter": "python",
      "file_extension": ".py"
    },
    "kernelspec": {
      "name": "python3",
      "language": "python",
      "display_name": "Python 3 (ipykernel)"
    },
    "kernel_info": {
      "name": "python3"
    },
    "nteract": {
      "version": "nteract-front-end@1.0.0"
    }
  },
  "nbformat": 4,
  "nbformat_minor": 0
}
