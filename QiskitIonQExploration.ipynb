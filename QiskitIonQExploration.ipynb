{
 "cells": [
  {
   "cell_type": "code",
   "execution_count": 1,
   "id": "8bfe5216-24c0-4742-8d64-81a58ea3f8e4",
   "metadata": {},
   "outputs": [],
   "source": [
    "%load_ext autoreload\n",
    "%autoreload 2"
   ]
  },
  {
   "cell_type": "code",
   "execution_count": 2,
   "id": "a5ece91b-6614-40ba-a269-de23cefe1879",
   "metadata": {},
   "outputs": [],
   "source": [
    "from quantum_jeopardy import QuantumJeopardy"
   ]
  },
  {
   "cell_type": "markdown",
   "id": "675a2586-4376-419d-b871-76f9892dec49",
   "metadata": {},
   "source": [
    "# Quantum Jeopardy"
   ]
  },
  {
   "cell_type": "code",
   "execution_count": 3,
   "id": "a43c3886-9dbe-4507-afaf-7126d3bb2138",
   "metadata": {},
   "outputs": [],
   "source": [
    "game = QuantumJeopardy()"
   ]
  },
  {
   "cell_type": "code",
   "execution_count": 4,
   "id": "72d7da99-907b-4dd9-9f2c-d83b4e50df9c",
   "metadata": {},
   "outputs": [
    {
     "name": "stdout",
     "output_type": "stream",
     "text": [
      "['ionq.qpu', 'ionq.simulator']\n"
     ]
    }
   ],
   "source": [
    "resource_id = \"\"\n",
    "game.setup_backend(resource_id)"
   ]
  },
  {
   "cell_type": "code",
   "execution_count": 6,
   "id": "60c0e014-c3a6-4b44-a3d2-6fffa86a1372",
   "metadata": {},
   "outputs": [
    {
     "name": "stdout",
     "output_type": "stream",
     "text": [
      "     ┌───┐     ┌────────────┐┌────────────┐\n",
      "q_0: ┤ H ├──■──┤ Rx(2.8093) ├┤ Rz(4.2585) ├\n",
      "     └───┘┌─┴─┐├────────────┤├────────────┤\n",
      "q_1: ─────┤ X ├┤ Rx(2.8189) ├┤ Rz(4.8874) ├\n",
      "          └───┘└────────────┘└────────────┘\n",
      "c: 2/══════════════════════════════════════\n",
      "                                           \n"
     ]
    },
    {
     "name": "stdin",
     "output_type": "stream",
     "text": [
      "What gate would you like to use? (Type None if no gate):  x\n",
      "Which qubit would you like to apply the gate to?:  0\n",
      "What gate would you like to use? (Type None if no gate):  x\n",
      "Which qubit would you like to apply the gate to?:  1\n",
      "What gate would you like to use? (Type None if no gate):  y\n",
      "Which qubit would you like to apply the gate to?:  1\n"
     ]
    },
    {
     "name": "stdout",
     "output_type": "stream",
     "text": [
      "     ┌───┐     ┌────────────┐┌────────────┐┌───┐     ┌─┐   \n",
      "q_0: ┤ H ├──■──┤ Rx(2.8093) ├┤ Rz(4.2585) ├┤ X ├─────┤M├───\n",
      "     └───┘┌─┴─┐├────────────┤├────────────┤├───┤┌───┐└╥┘┌─┐\n",
      "q_1: ─────┤ X ├┤ Rx(2.8189) ├┤ Rz(4.8874) ├┤ X ├┤ Y ├─╫─┤M├\n",
      "          └───┘└────────────┘└────────────┘└───┘└───┘ ║ └╥┘\n",
      "c: 2/═════════════════════════════════════════════════╩══╩═\n",
      "                                                      0  1 \n",
      "Job id 5c9277b8-819e-11ec-b717-367dda17a95d\n",
      "Job Status: job has successfully run\n",
      "{'00': 5, '01': 44, '10': 44, '11': 5}\n"
     ]
    },
    {
     "data": {
      "text/plain": [
       "2"
      ]
     },
     "execution_count": 6,
     "metadata": {},
     "output_type": "execute_result"
    }
   ],
   "source": [
    "game.play_round()"
   ]
  },
  {
   "cell_type": "code",
   "execution_count": 7,
   "id": "d1757443-12b1-413d-aed2-3812e25411ac",
   "metadata": {},
   "outputs": [
    {
     "name": "stdout",
     "output_type": "stream",
     "text": [
      "     ┌───┐     \n",
      "q_0: ┤ H ├──■──\n",
      "     └───┘┌─┴─┐\n",
      "q_1: ─────┤ X ├\n",
      "          └───┘\n",
      "c: 2/══════════\n",
      "               \n"
     ]
    },
    {
     "name": "stdin",
     "output_type": "stream",
     "text": [
      "What gate would you like to use? (Type None if no gate):  x\n",
      "Which qubit would you like to apply the gate to?:  1\n",
      "What gate would you like to use? (Type None if no gate):  t\n",
      "Which qubit would you like to apply the gate to?:  0\n",
      "What gate would you like to use? (Type None if no gate):  y\n",
      "Which qubit would you like to apply the gate to?:  1\n"
     ]
    },
    {
     "name": "stdout",
     "output_type": "stream",
     "text": [
      "     ┌───┐     ┌───┐     ┌─┐   \n",
      "q_0: ┤ H ├──■──┤ T ├─────┤M├───\n",
      "     └───┘┌─┴─┐├───┤┌───┐└╥┘┌─┐\n",
      "q_1: ─────┤ X ├┤ X ├┤ Y ├─╫─┤M├\n",
      "          └───┘└───┘└───┘ ║ └╥┘\n",
      "c: 2/═════════════════════╩══╩═\n",
      "                          0  1 \n",
      "Job id 8168af8a-819e-11ec-b717-367dda17a95d\n",
      "Job Status: job has successfully run\n",
      "{'00': 50, '01': 0, '10': 0, '11': 50}\n"
     ]
    },
    {
     "data": {
      "text/plain": [
       "0"
      ]
     },
     "execution_count": 7,
     "metadata": {},
     "output_type": "execute_result"
    }
   ],
   "source": [
    "game.play_round(make_random = False)"
   ]
  },
  {
   "cell_type": "code",
   "execution_count": null,
   "id": "9ef48934-b848-45b4-977a-7c9656afa092",
   "metadata": {},
   "outputs": [],
   "source": []
  }
 ],
 "metadata": {
  "kernelspec": {
   "display_name": "Python 3 (ipykernel)",
   "language": "python",
   "name": "python3"
  },
  "language_info": {
   "codemirror_mode": {
    "name": "ipython",
    "version": 3
   },
   "file_extension": ".py",
   "mimetype": "text/x-python",
   "name": "python",
   "nbconvert_exporter": "python",
   "pygments_lexer": "ipython3",
   "version": "3.7.12"
  }
 },
 "nbformat": 4,
 "nbformat_minor": 5
}
