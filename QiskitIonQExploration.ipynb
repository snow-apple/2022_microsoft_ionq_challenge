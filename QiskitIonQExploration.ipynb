{
 "cells": [
  {
   "cell_type": "code",
   "execution_count": 29,
   "id": "13d824ef-99c1-4c8a-b3bd-3efcac87eb9d",
   "metadata": {},
   "outputs": [],
   "source": [
    "from qiskit import QuantumCircuit\n",
    "from qiskit.visualization import plot_histogram\n",
    "from qiskit.tools.monitor import job_monitor\n",
    "from azure.quantum.qiskit import AzureQuantumProvider\n",
    "import random\n",
    "import matplotlib.pyplot as plt \n",
    "import math"
   ]
  },
  {
   "cell_type": "markdown",
   "id": "218b839f-4753-4da9-b37f-2799def7c21b",
   "metadata": {},
   "source": [
    "# Setup provider"
   ]
  },
  {
   "cell_type": "code",
   "execution_count": 2,
   "id": "34906008-f100-435f-9c59-9760c188bd5a",
   "metadata": {},
   "outputs": [],
   "source": [
    "from azure.quantum.qiskit import AzureQuantumProvider\n",
    "provider = AzureQuantumProvider (\n",
    "    resource_id = #please enter your resource id here ,\n",
    "    location = \"eastus\"\n",
    ")"
   ]
  },
  {
   "cell_type": "code",
   "execution_count": 4,
   "id": "b4c1fed7-0ad9-4e6a-8f32-959aa5b34c2a",
   "metadata": {},
   "outputs": [
    {
     "name": "stdout",
     "output_type": "stream",
     "text": [
      "['ionq.qpu', 'ionq.simulator']\n"
     ]
    }
   ],
   "source": [
    "print([backend.name() for backend in provider.backends()])"
   ]
  },
  {
   "cell_type": "code",
   "execution_count": 5,
   "id": "b299c5ef-e4ba-4c5d-81f9-5237b4ff3019",
   "metadata": {},
   "outputs": [],
   "source": [
    "simulator_backend = provider.get_backend(\"ionq.simulator\")"
   ]
  },
  {
   "cell_type": "markdown",
   "id": "675a2586-4376-419d-b871-76f9892dec49",
   "metadata": {},
   "source": [
    "# Quantum Jeopardy"
   ]
  },
  {
   "cell_type": "code",
   "execution_count": 38,
   "id": "72ac7a61-61bf-400a-9def-354ac4e2bd8b",
   "metadata": {},
   "outputs": [],
   "source": [
    "def apply_gates(gates, qc):\n",
    "    for gate in gates:\n",
    "        getattr(qc,gate[0])(gate[1])\n",
    "    return qc\n",
    "\n",
    "\n",
    "#applying user gates (the user can choose up to three gates to run)\n",
    "def get_input():\n",
    "    gate_set = []\n",
    "    for i in range(3):\n",
    "        gate_type = input(\"What gate would you like to use? (Type None if no gate): \")\n",
    "        if gate_type in [\"x\", \"y\", \"z\", \"t\", \"None\"]:\n",
    "            if gate_type != \"None\":\n",
    "                qubit_type = int(input(\"Which qubit would you like to apply the gate to?: \"))\n",
    "                gate_set.append((gate_type, qubit_type))\n",
    "            else:\n",
    "                print(\"skipped code\")\n",
    "        else:\n",
    "            raise ValueError(\"please input a correct gate\")\n",
    "            \n",
    "    return gate_set\n",
    "\n",
    "def play_round(make_random = True):\n",
    "    \"\"\"\n",
    "    1. It initializes the circuit in a random state\n",
    "    2. It calls get_input() to let the user choose which gates they want to apply to the circuit. The user's\n",
    "    goal is to maximize the probability of choosing a certain topic, represented by a quantum state \n",
    "    (|00> -> 0, |01> -> 1, |10> -> 2, |11> -> 3).\n",
    "    3. The final circuit is run by run_result using either the simulator or quantum hardware\n",
    "    4. The results are parsed.\n",
    "    5. The most common measurment is converted into a choice. (|00> -> 0, |01> -> 1, |10> -> 2, |11> -> 3) \n",
    "    \"\"\"\n",
    "    # circuit initialization (We can set the rotation angles randomly) \n",
    "    circuit = QuantumCircuit(2, 2)\n",
    "    circuit.h(0)\n",
    "    circuit.cx(0,1) #this creates a bell state |00> + |11> . The qubits are maximaly entangled.\n",
    "    \n",
    "    # adding random rotations\n",
    "    if make_random:\n",
    "        rotations = [random.random()*2*math.pi for i in range(4)]\n",
    "        circuit.rx(rotations[0],0)\n",
    "        circuit.rz(rotations[1],0)\n",
    "        circuit.rx(rotations[2],1)\n",
    "        circuit.rz(rotations[3],1)\n",
    "    \n",
    "    print(circuit)\n",
    "    gate_set = get_input()           \n",
    "    circuit = apply_gates(gate_set, circuit)\n",
    "    circuit.measure([0, 1], [0, 1])\n",
    "    print(circuit)\n",
    "    \n",
    "    result = run_result(circuit)\n",
    "    \n",
    "    # parsing results\n",
    "    counts = {format(n, \"02b\"): 0 for n in range(4)}\n",
    "    counts.update(result.get_counts(circuit))\n",
    "    print(counts)\n",
    "    \n",
    "    # finding which measurment was measured the most amount of times\n",
    "    max_counts = 0\n",
    "    max_key = None\n",
    "    for key,count in counts.items():\n",
    "        if count > max_counts:\n",
    "            max_counts = count\n",
    "            max_key = key\n",
    "    max_key = max_key[::-1] # reversing string since qiskit represents |01> as \"10\"\n",
    "    choice = int(max_key, 2)\n",
    "    return choice\n",
    "    \n",
    "\n",
    "def run_result(qc):\n",
    "    job = simulator_backend.run(qc, shots=100)\n",
    "    job_id = job.id()\n",
    "    print(\"Job id\", job_id)\n",
    "    job_monitor(job)\n",
    "    result = job.result()\n",
    "    return result"
   ]
  },
  {
   "cell_type": "code",
   "execution_count": 39,
   "id": "60c0e014-c3a6-4b44-a3d2-6fffa86a1372",
   "metadata": {},
   "outputs": [
    {
     "name": "stdout",
     "output_type": "stream",
     "text": [
      "     ┌───┐     ┌────────────┐┌────────────┐\n",
      "q_0: ┤ H ├──■──┤ Rx(2.9871) ├┤ Rz(1.4677) ├\n",
      "     └───┘┌─┴─┐├────────────┤├────────────┤\n",
      "q_1: ─────┤ X ├┤ Rx(4.0294) ├┤ Rz(5.4535) ├\n",
      "          └───┘└────────────┘└────────────┘\n",
      "c: 2/══════════════════════════════════════\n",
      "                                           \n"
     ]
    },
    {
     "name": "stdin",
     "output_type": "stream",
     "text": [
      "What gate would you like to use? (Type None if no gate):  x\n",
      "Which qubit would you like to apply the gate to?:  1\n",
      "What gate would you like to use? (Type None if no gate):  y\n",
      "Which qubit would you like to apply the gate to?:  0\n",
      "What gate would you like to use? (Type None if no gate):  t\n",
      "Which qubit would you like to apply the gate to?:  1\n"
     ]
    },
    {
     "name": "stdout",
     "output_type": "stream",
     "text": [
      "     ┌───┐     ┌────────────┐┌────────────┐┌───┐     ┌─┐   \n",
      "q_0: ┤ H ├──■──┤ Rx(2.9871) ├┤ Rz(1.4677) ├┤ Y ├─────┤M├───\n",
      "     └───┘┌─┴─┐├────────────┤├────────────┤├───┤┌───┐└╥┘┌─┐\n",
      "q_1: ─────┤ X ├┤ Rx(4.0294) ├┤ Rz(5.4535) ├┤ X ├┤ T ├─╫─┤M├\n",
      "          └───┘└────────────┘└────────────┘└───┘└───┘ ║ └╥┘\n",
      "c: 2/═════════════════════════════════════════════════╩══╩═\n",
      "                                                      0  1 \n",
      "Job id ce29e33c-8196-11ec-92ef-367dda17a95d\n",
      "Job Status: job has successfully run\n",
      "{'00': 43, '01': 6, '10': 6, '11': 43}\n"
     ]
    },
    {
     "data": {
      "text/plain": [
       "0"
      ]
     },
     "execution_count": 39,
     "metadata": {},
     "output_type": "execute_result"
    }
   ],
   "source": [
    "play_round()"
   ]
  },
  {
   "cell_type": "code",
   "execution_count": 40,
   "id": "d1757443-12b1-413d-aed2-3812e25411ac",
   "metadata": {},
   "outputs": [
    {
     "name": "stdout",
     "output_type": "stream",
     "text": [
      "     ┌───┐     \n",
      "q_0: ┤ H ├──■──\n",
      "     └───┘┌─┴─┐\n",
      "q_1: ─────┤ X ├\n",
      "          └───┘\n",
      "c: 2/══════════\n",
      "               \n"
     ]
    },
    {
     "name": "stdin",
     "output_type": "stream",
     "text": [
      "What gate would you like to use? (Type None if no gate):  x\n",
      "Which qubit would you like to apply the gate to?:  0\n",
      "What gate would you like to use? (Type None if no gate):  x\n",
      "Which qubit would you like to apply the gate to?:  0\n",
      "What gate would you like to use? (Type None if no gate):  x\n",
      "Which qubit would you like to apply the gate to?:  1\n"
     ]
    },
    {
     "name": "stdout",
     "output_type": "stream",
     "text": [
      "     ┌───┐     ┌───┐┌───┐┌─┐\n",
      "q_0: ┤ H ├──■──┤ X ├┤ X ├┤M├\n",
      "     └───┘┌─┴─┐├───┤└┬─┬┘└╥┘\n",
      "q_1: ─────┤ X ├┤ X ├─┤M├──╫─\n",
      "          └───┘└───┘ └╥┘  ║ \n",
      "c: 2/═════════════════╩═══╩═\n",
      "                      1   0 \n",
      "Job id 1fbc7494-8197-11ec-92ef-367dda17a95d\n",
      "Job Status: job has successfully run\n",
      "{'00': 0, '01': 50, '10': 50, '11': 0}\n"
     ]
    },
    {
     "data": {
      "text/plain": [
       "2"
      ]
     },
     "execution_count": 40,
     "metadata": {},
     "output_type": "execute_result"
    }
   ],
   "source": [
    "play_round(make_random = False)"
   ]
  },
  {
   "cell_type": "code",
   "execution_count": null,
   "id": "9ef48934-b848-45b4-977a-7c9656afa092",
   "metadata": {},
   "outputs": [],
   "source": []
  }
 ],
 "metadata": {
  "kernelspec": {
   "display_name": "Python 3 (ipykernel)",
   "language": "python",
   "name": "python3"
  },
  "language_info": {
   "codemirror_mode": {
    "name": "ipython",
    "version": 3
   },
   "file_extension": ".py",
   "mimetype": "text/x-python",
   "name": "python",
   "nbconvert_exporter": "python",
   "pygments_lexer": "ipython3",
   "version": "3.7.12"
  }
 },
 "nbformat": 4,
 "nbformat_minor": 5
}
